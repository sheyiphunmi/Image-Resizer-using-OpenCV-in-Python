{
 "cells": [
  {
   "cell_type": "code",
   "execution_count": 3,
   "metadata": {},
   "outputs": [
    {
     "data": {
      "text/plain": [
       "'C:\\\\Users\\\\sleem\\\\Desktop\\\\AWS_ML_AI'"
      ]
     },
     "execution_count": 3,
     "metadata": {},
     "output_type": "execute_result"
    }
   ],
   "source": [
    "import os\n",
    "from os import listdir\n",
    "import cv2\n",
    "\n",
    "image_dir = \"C:\\\\Users\\\\sleem\\\\Desktop\\\\AWS_ML_AI\\\\uploaded_images\"\n",
    "\n",
    "#os.chdir(image_dir)\n",
    "\n",
    "# image_dir = os.path.join(path, 'uploaded_images')\n",
    "\n",
    "os.chdir('../')\n",
    "os.getcwd()\n",
    "\n",
    "# # #listdir()\n",
    "# os.chdir(image_dir)\n",
    "# # Creates list of files in directory\n",
    "# in_files = listdir()\n",
    "# # Processes through each file in the directory, extracting only the words\n",
    "# # of the file that contain the pet image label\n",
    "# for idx in range(0, len(in_files), 1):\n",
    "#     # Skips file if starts with . (like .DS_Store of Mac OSX) because it \n",
    "#     if not in_files[idx].startswith(\".\"): #- if in_files[idx][0] != \".\":\n",
    "#         img = cv2.imread(in_files[idx],1)\n",
    "#         height, width, _ = img.shape\n",
    "#         # resize image by specifying custom width and height\n",
    "#         new_size = min(height,width)\n",
    "#         image_resized = cv2.resize(img, (new_size,new_size))\n",
    "#         ##save rescaled images to new path\n",
    "          #output_dir = \"C:/Users/sleem/Desktop/AWS_ML_AI/Output\"\n",
    "#         cv2.imwrite(os.path.join(new_path,in_files[idx]), image_resized)\n"
   ]
  },
  {
   "cell_type": "code",
   "execution_count": 1,
   "metadata": {},
   "outputs": [
    {
     "name": "stdout",
     "output_type": "stream",
     "text": [
      "Image successfully rescaled\n",
      " \n"
     ]
    }
   ],
   "source": [
    "import os\n",
    "from os import listdir\n",
    "import cv2\n",
    "\n",
    "def rescale_image(image_dir, output_dir):\n",
    "    os.chdir(image_dir)\n",
    "    # Creates list of files in directory\n",
    "    in_files = listdir()\n",
    "\n",
    "    # Processes through each file in the directory, extracting only the words\n",
    "    # of the file that contain the images\n",
    "    for idx in range(0, len(in_files), 1):\n",
    "        # Skips file if starts with . (like .DS_Store of Mac OSX) because it \n",
    "        if not in_files[idx].startswith(\".\") and in_files[idx].endswith(\".jpg\"): #- if in_files[idx][0] != \".\":\n",
    "            img = cv2.imread(in_files[idx],1)\n",
    "\n",
    "            ##Getting the dimension of the loaded images\n",
    "            height, width, _ = img.shape\n",
    "\n",
    "            # resize image by specifying custom width and height\n",
    "            new_size = max(height,width)\n",
    "            image_resized = cv2.resize(img, (new_size,new_size))\n",
    "\n",
    "            ##save rescaled images to new path\n",
    "            cv2.imwrite(os.path.join(output_dir,in_files[idx]), image_resized)\n",
    "\n",
    "print('Image successfully rescaled')\n",
    "\n",
    "print(\" \")\n",
    "\n",
    "#Rescaling my images\n",
    "image_dir = \"C:\\\\Users\\\\sleem\\\\Desktop\\\\AWS_ML_AI\\\\uploaded_images\"\n",
    "output_dir = \"C:/Users/sleem/Desktop/AWS_ML_AI/Output\" \n",
    "rescale_image(image_dir, output_dir)"
   ]
  }
 ],
 "metadata": {
  "kernelspec": {
   "display_name": "Python 3.9.11 64-bit",
   "language": "python",
   "name": "python3"
  },
  "language_info": {
   "codemirror_mode": {
    "name": "ipython",
    "version": 3
   },
   "file_extension": ".py",
   "mimetype": "text/x-python",
   "name": "python",
   "nbconvert_exporter": "python",
   "pygments_lexer": "ipython3",
   "version": "3.9.11"
  },
  "orig_nbformat": 4,
  "vscode": {
   "interpreter": {
    "hash": "25034407fed5d681614dac11a1c0537e8cb49e3a8883c071303eea01322943d9"
   }
  }
 },
 "nbformat": 4,
 "nbformat_minor": 2
}
